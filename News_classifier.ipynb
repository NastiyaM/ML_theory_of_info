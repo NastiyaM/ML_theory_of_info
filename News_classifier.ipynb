{
 "cells": [
  {
   "cell_type": "code",
   "execution_count": 1,
   "metadata": {},
   "outputs": [],
   "source": [
    "import csv\n",
    "import pandas as pd\n",
    "import numpy as np"
   ]
  },
  {
   "cell_type": "markdown",
   "metadata": {},
   "source": [
    "# Чтение данных"
   ]
  },
  {
   "cell_type": "code",
   "execution_count": 2,
   "metadata": {},
   "outputs": [
    {
     "data": {
      "text/html": [
       "<div>\n",
       "<style scoped>\n",
       "    .dataframe tbody tr th:only-of-type {\n",
       "        vertical-align: middle;\n",
       "    }\n",
       "\n",
       "    .dataframe tbody tr th {\n",
       "        vertical-align: top;\n",
       "    }\n",
       "\n",
       "    .dataframe thead th {\n",
       "        text-align: right;\n",
       "    }\n",
       "</style>\n",
       "<table border=\"1\" class=\"dataframe\">\n",
       "  <thead>\n",
       "    <tr style=\"text-align: right;\">\n",
       "      <th></th>\n",
       "      <th>Genres</th>\n",
       "      <th>Title</th>\n",
       "      <th>Publication</th>\n",
       "    </tr>\n",
       "  </thead>\n",
       "  <tbody>\n",
       "    <tr>\n",
       "      <th>0</th>\n",
       "      <td>style</td>\n",
       "      <td>Rolex наградит победителей регаты</td>\n",
       "      <td>Парусная гонка Giraglia Rolex Cup пройдет в Ср...</td>\n",
       "    </tr>\n",
       "    <tr>\n",
       "      <th>1</th>\n",
       "      <td>sport</td>\n",
       "      <td>Матс Сундин стал советником тренера сборной Шв...</td>\n",
       "      <td>Шведский хоккеист Матс Сундин назначен советни...</td>\n",
       "    </tr>\n",
       "    <tr>\n",
       "      <th>2</th>\n",
       "      <td>media</td>\n",
       "      <td>Брендом года по версии EFFIE впервые стал город</td>\n",
       "      <td>Гран-при конкурса \"Брэнд года/EFFIE\" получил г...</td>\n",
       "    </tr>\n",
       "    <tr>\n",
       "      <th>3</th>\n",
       "      <td>economics</td>\n",
       "      <td>Цена нефти WTI снизилась после публикации данн...</td>\n",
       "      <td>Цена американской нефти WTI на лондонской бирж...</td>\n",
       "    </tr>\n",
       "    <tr>\n",
       "      <th>4</th>\n",
       "      <td>economics</td>\n",
       "      <td>Сбербанк распродаст другим банкирам миллиардны...</td>\n",
       "      <td>Сбербанк выставил на продажу долги по 21,4 тыс...</td>\n",
       "    </tr>\n",
       "  </tbody>\n",
       "</table>\n",
       "</div>"
      ],
      "text/plain": [
       "      Genres                                              Title  \\\n",
       "0      style                  Rolex наградит победителей регаты   \n",
       "1      sport  Матс Сундин стал советником тренера сборной Шв...   \n",
       "2      media    Брендом года по версии EFFIE впервые стал город   \n",
       "3  economics  Цена нефти WTI снизилась после публикации данн...   \n",
       "4  economics  Сбербанк распродаст другим банкирам миллиардны...   \n",
       "\n",
       "                                         Publication  \n",
       "0  Парусная гонка Giraglia Rolex Cup пройдет в Ср...  \n",
       "1  Шведский хоккеист Матс Сундин назначен советни...  \n",
       "2  Гран-при конкурса \"Брэнд года/EFFIE\" получил г...  \n",
       "3  Цена американской нефти WTI на лондонской бирж...  \n",
       "4  Сбербанк выставил на продажу долги по 21,4 тыс...  "
      ]
     },
     "execution_count": 2,
     "metadata": {},
     "output_type": "execute_result"
    }
   ],
   "source": [
    "news_train = csv.reader(open('news_train.txt', 'rt', encoding=\"utf8\"), delimiter='\\t')\n",
    "df = pd.DataFrame(news_train, columns = ['Genres', 'Title', 'Publication'])\n",
    "df.head()"
   ]
  },
  {
   "cell_type": "code",
   "execution_count": 3,
   "metadata": {},
   "outputs": [
    {
     "name": "stdout",
     "output_type": "stream",
     "text": [
      "<class 'pandas.core.frame.DataFrame'>\n",
      "RangeIndex: 60000 entries, 0 to 59999\n",
      "Data columns (total 3 columns):\n",
      "Genres         60000 non-null object\n",
      "Title          60000 non-null object\n",
      "Publication    60000 non-null object\n",
      "dtypes: object(3)\n",
      "memory usage: 1.4+ MB\n"
     ]
    }
   ],
   "source": [
    "df.info()"
   ]
  },
  {
   "cell_type": "markdown",
   "metadata": {},
   "source": [
    "# Очистка и преобразование данных"
   ]
  },
  {
   "cell_type": "code",
   "execution_count": 4,
   "metadata": {},
   "outputs": [
    {
     "name": "stderr",
     "output_type": "stream",
     "text": [
      "[nltk_data] Downloading package stopwords to\n",
      "[nltk_data]     C:\\Users\\kiril\\AppData\\Roaming\\nltk_data...\n",
      "[nltk_data]   Package stopwords is already up-to-date!\n"
     ]
    }
   ],
   "source": [
    "import nltk\n",
    "import pymorphy2\n",
    "import re\n",
    "nltk.download('stopwords')\n",
    "from nltk.corpus import stopwords # Import the stop word list"
   ]
  },
  {
   "cell_type": "code",
   "execution_count": 5,
   "metadata": {},
   "outputs": [],
   "source": [
    "def review_to_words(review_text):\n",
    "    # Function to convert a raw review to a string of words\n",
    "    morph = pymorphy2.MorphAnalyzer()\n",
    "    # 1. Remove non-letters        \n",
    "    letters_only = re.sub(\"[^а-яА-Яa-zA-Z]\", \" \", review_text) \n",
    "    #\n",
    "    # 2. Convert to lower case, split into individual words\n",
    "    words = letters_only.lower().split()                             \n",
    "    #\n",
    "    # 3. In Python, searching a set is much faster than searching\n",
    "    #   a list, so convert the stop words to a set\n",
    "    stops = set(stopwords.words(\"russian\"))                  \n",
    "    # \n",
    "    # 4. Remove stop words and transform to normal_form\n",
    "    meaningful_words = [morph.parse(w)[0].normal_form for w in words if not w in stops]   \n",
    "    #\n",
    "    # 5. Join the words back into one string separated by space, \n",
    "    # and return the result.\n",
    "    return( \" \".join(meaningful_words)) "
   ]
  },
  {
   "cell_type": "code",
   "execution_count": 6,
   "metadata": {},
   "outputs": [],
   "source": [
    "df['text'] = df['Title'] + ' ' + df['Publication']"
   ]
  },
  {
   "cell_type": "code",
   "execution_count": 29,
   "metadata": {},
   "outputs": [
    {
     "name": "stdout",
     "output_type": "stream",
     "text": [
      "Wall time: 1h 15min 39s\n"
     ]
    }
   ],
   "source": [
    "%%time\n",
    "df['Clear_text'] = df['text'].apply(review_to_words)"
   ]
  },
  {
   "cell_type": "code",
   "execution_count": 32,
   "metadata": {},
   "outputs": [
    {
     "data": {
      "text/html": [
       "<div>\n",
       "<style scoped>\n",
       "    .dataframe tbody tr th:only-of-type {\n",
       "        vertical-align: middle;\n",
       "    }\n",
       "\n",
       "    .dataframe tbody tr th {\n",
       "        vertical-align: top;\n",
       "    }\n",
       "\n",
       "    .dataframe thead th {\n",
       "        text-align: right;\n",
       "    }\n",
       "</style>\n",
       "<table border=\"1\" class=\"dataframe\">\n",
       "  <thead>\n",
       "    <tr style=\"text-align: right;\">\n",
       "      <th></th>\n",
       "      <th>Genres</th>\n",
       "      <th>Title</th>\n",
       "      <th>Publication</th>\n",
       "      <th>text</th>\n",
       "      <th>Clear_text</th>\n",
       "    </tr>\n",
       "  </thead>\n",
       "  <tbody>\n",
       "    <tr>\n",
       "      <th>0</th>\n",
       "      <td>style</td>\n",
       "      <td>Rolex наградит победителей регаты</td>\n",
       "      <td>Парусная гонка Giraglia Rolex Cup пройдет в Ср...</td>\n",
       "      <td>Rolex наградит победителей регаты Парусная гон...</td>\n",
       "      <td>rolex наградить победитель регата парусный гон...</td>\n",
       "    </tr>\n",
       "    <tr>\n",
       "      <th>1</th>\n",
       "      <td>sport</td>\n",
       "      <td>Матс Сундин стал советником тренера сборной Шв...</td>\n",
       "      <td>Шведский хоккеист Матс Сундин назначен советни...</td>\n",
       "      <td>Матс Сундин стал советником тренера сборной Шв...</td>\n",
       "      <td>матс сундина стать советник тренер сборный шве...</td>\n",
       "    </tr>\n",
       "    <tr>\n",
       "      <th>2</th>\n",
       "      <td>media</td>\n",
       "      <td>Брендом года по версии EFFIE впервые стал город</td>\n",
       "      <td>Гран-при конкурса \"Брэнд года/EFFIE\" получил г...</td>\n",
       "      <td>Брендом года по версии EFFIE впервые стал горо...</td>\n",
       "      <td>бренд год версия effie впервые стать город гра...</td>\n",
       "    </tr>\n",
       "    <tr>\n",
       "      <th>3</th>\n",
       "      <td>economics</td>\n",
       "      <td>Цена нефти WTI снизилась после публикации данн...</td>\n",
       "      <td>Цена американской нефти WTI на лондонской бирж...</td>\n",
       "      <td>Цена нефти WTI снизилась после публикации данн...</td>\n",
       "      <td>цена нефть wti снизиться публикация дать запас...</td>\n",
       "    </tr>\n",
       "    <tr>\n",
       "      <th>4</th>\n",
       "      <td>economics</td>\n",
       "      <td>Сбербанк распродаст другим банкирам миллиардны...</td>\n",
       "      <td>Сбербанк выставил на продажу долги по 21,4 тыс...</td>\n",
       "      <td>Сбербанк распродаст другим банкирам миллиардны...</td>\n",
       "      <td>сбербанк распродать другой банкир миллиард дол...</td>\n",
       "    </tr>\n",
       "  </tbody>\n",
       "</table>\n",
       "</div>"
      ],
      "text/plain": [
       "      Genres                                              Title  \\\n",
       "0      style                  Rolex наградит победителей регаты   \n",
       "1      sport  Матс Сундин стал советником тренера сборной Шв...   \n",
       "2      media    Брендом года по версии EFFIE впервые стал город   \n",
       "3  economics  Цена нефти WTI снизилась после публикации данн...   \n",
       "4  economics  Сбербанк распродаст другим банкирам миллиардны...   \n",
       "\n",
       "                                         Publication  \\\n",
       "0  Парусная гонка Giraglia Rolex Cup пройдет в Ср...   \n",
       "1  Шведский хоккеист Матс Сундин назначен советни...   \n",
       "2  Гран-при конкурса \"Брэнд года/EFFIE\" получил г...   \n",
       "3  Цена американской нефти WTI на лондонской бирж...   \n",
       "4  Сбербанк выставил на продажу долги по 21,4 тыс...   \n",
       "\n",
       "                                                text  \\\n",
       "0  Rolex наградит победителей регаты Парусная гон...   \n",
       "1  Матс Сундин стал советником тренера сборной Шв...   \n",
       "2  Брендом года по версии EFFIE впервые стал горо...   \n",
       "3  Цена нефти WTI снизилась после публикации данн...   \n",
       "4  Сбербанк распродаст другим банкирам миллиардны...   \n",
       "\n",
       "                                          Clear_text  \n",
       "0  rolex наградить победитель регата парусный гон...  \n",
       "1  матс сундина стать советник тренер сборный шве...  \n",
       "2  бренд год версия effie впервые стать город гра...  \n",
       "3  цена нефть wti снизиться публикация дать запас...  \n",
       "4  сбербанк распродать другой банкир миллиард дол...  "
      ]
     },
     "execution_count": 32,
     "metadata": {},
     "output_type": "execute_result"
    }
   ],
   "source": [
    "df.head()"
   ]
  },
  {
   "cell_type": "code",
   "execution_count": 7,
   "metadata": {},
   "outputs": [],
   "source": [
    "#df.to_csv('cleared_train_data.csv', index=False)\n",
    "#df = pd.read_csv('cleared_train_data.csv')"
   ]
  },
  {
   "cell_type": "markdown",
   "metadata": {},
   "source": [
    "# Обучение модели"
   ]
  },
  {
   "cell_type": "code",
   "execution_count": 8,
   "metadata": {},
   "outputs": [],
   "source": [
    "from sklearn.feature_extraction.text import TfidfVectorizer\n",
    "from sklearn.model_selection import cross_val_score\n",
    "from sklearn.model_selection import GridSearchCV\n",
    "from sklearn.feature_extraction.text import CountVectorizer\n",
    "from sklearn.linear_model import LogisticRegression\n",
    "from sklearn.metrics import accuracy_score"
   ]
  },
  {
   "cell_type": "markdown",
   "metadata": {},
   "source": [
    "### Исппользован мешок слов"
   ]
  },
  {
   "cell_type": "code",
   "execution_count": 14,
   "metadata": {},
   "outputs": [],
   "source": [
    "vectorizer = CountVectorizer(analyzer = \"word\",  \n",
    "                                 tokenizer = None,\n",
    "                                 preprocessor = None, \n",
    "                                 stop_words = None)"
   ]
  },
  {
   "cell_type": "markdown",
   "metadata": {},
   "source": [
    "### Использован TF-IDF"
   ]
  },
  {
   "cell_type": "code",
   "execution_count": 28,
   "metadata": {},
   "outputs": [],
   "source": [
    "vectorizer = TfidfVectorizer(analyzer = \"word\",  \n",
    "                                 tokenizer = None,\n",
    "                                 preprocessor = None, \n",
    "                                 stop_words = None)"
   ]
  },
  {
   "cell_type": "markdown",
   "metadata": {},
   "source": [
    "Преобразование данных"
   ]
  },
  {
   "cell_type": "code",
   "execution_count": 29,
   "metadata": {},
   "outputs": [
    {
     "name": "stdout",
     "output_type": "stream",
     "text": [
      "Wall time: 9.71 s\n"
     ]
    }
   ],
   "source": [
    "%%time\n",
    "train_data_features = vectorizer.fit_transform(df['Clear_text']) "
   ]
  },
  {
   "cell_type": "markdown",
   "metadata": {},
   "source": [
    "Кроссвалидация модели и обучение модели"
   ]
  },
  {
   "cell_type": "code",
   "execution_count": 30,
   "metadata": {},
   "outputs": [
    {
     "name": "stdout",
     "output_type": "stream",
     "text": [
      "Wall time: 39min 25s\n"
     ]
    },
    {
     "data": {
      "text/plain": [
       "GridSearchCV(cv=3, error_score=nan,\n",
       "             estimator=LogisticRegression(C=1.0, class_weight=None, dual=False,\n",
       "                                          fit_intercept=True,\n",
       "                                          intercept_scaling=1, l1_ratio=None,\n",
       "                                          max_iter=1000, multi_class='auto',\n",
       "                                          n_jobs=None, penalty='l2',\n",
       "                                          random_state=None, solver='lbfgs',\n",
       "                                          tol=0.0001, verbose=0,\n",
       "                                          warm_start=False),\n",
       "             iid='deprecated', n_jobs=None, param_grid={'C': [15, 20, 30, 40]},\n",
       "             pre_dispatch='2*n_jobs', refit=True, return_train_score=False,\n",
       "             scoring=None, verbose=0)"
      ]
     },
     "execution_count": 30,
     "metadata": {},
     "output_type": "execute_result"
    }
   ],
   "source": [
    "%%time\n",
    "clf = LogisticRegression(max_iter=1000)\n",
    "clf_params = {'C':[15, 20, 30, 40]}\n",
    "clf_grid = GridSearchCV(clf, clf_params, cv=3)\n",
    "clf_grid.fit(train_data_features, df['Genres'])"
   ]
  },
  {
   "cell_type": "code",
   "execution_count": 31,
   "metadata": {},
   "outputs": [
    {
     "data": {
      "text/plain": [
       "0.8973833333333333"
      ]
     },
     "execution_count": 31,
     "metadata": {},
     "output_type": "execute_result"
    }
   ],
   "source": [
    "clf_grid.best_score_"
   ]
  },
  {
   "cell_type": "code",
   "execution_count": 32,
   "metadata": {},
   "outputs": [
    {
     "data": {
      "text/plain": [
       "{'C': 20}"
      ]
     },
     "execution_count": 32,
     "metadata": {},
     "output_type": "execute_result"
    }
   ],
   "source": [
    "clf_grid.best_params_"
   ]
  },
  {
   "cell_type": "code",
   "execution_count": 33,
   "metadata": {},
   "outputs": [
    {
     "name": "stdout",
     "output_type": "stream",
     "text": [
      "Wall time: 3min 48s\n"
     ]
    },
    {
     "data": {
      "text/plain": [
       "GridSearchCV(cv=3, error_score=nan,\n",
       "             estimator=LogisticRegression(C=1.0, class_weight=None, dual=True,\n",
       "                                          fit_intercept=True,\n",
       "                                          intercept_scaling=1, l1_ratio=None,\n",
       "                                          max_iter=1000, multi_class='auto',\n",
       "                                          n_jobs=None, penalty='l2',\n",
       "                                          random_state=None, solver='liblinear',\n",
       "                                          tol=0.0001, verbose=0,\n",
       "                                          warm_start=False),\n",
       "             iid='deprecated', n_jobs=None, param_grid={'C': [15, 20, 30, 40]},\n",
       "             pre_dispatch='2*n_jobs', refit=True, return_train_score=False,\n",
       "             scoring=None, verbose=0)"
      ]
     },
     "execution_count": 33,
     "metadata": {},
     "output_type": "execute_result"
    }
   ],
   "source": [
    "%%time\n",
    "clf = LogisticRegression(max_iter=1000, dual=True, solver='liblinear')\n",
    "clf_params = {'C':[15, 20, 30, 40]}\n",
    "clf_grid_lin = GridSearchCV(clf, clf_params, cv=3)\n",
    "clf_grid_lin.fit(train_data_features, df['Genres'])"
   ]
  },
  {
   "cell_type": "code",
   "execution_count": 34,
   "metadata": {},
   "outputs": [
    {
     "data": {
      "text/plain": [
       "0.8978"
      ]
     },
     "execution_count": 34,
     "metadata": {},
     "output_type": "execute_result"
    }
   ],
   "source": [
    "clf_grid_lin.best_score_"
   ]
  },
  {
   "cell_type": "code",
   "execution_count": 35,
   "metadata": {},
   "outputs": [
    {
     "data": {
      "text/plain": [
       "{'C': 30}"
      ]
     },
     "execution_count": 35,
     "metadata": {},
     "output_type": "execute_result"
    }
   ],
   "source": [
    "clf_grid_lin.best_params_"
   ]
  },
  {
   "cell_type": "code",
   "execution_count": 36,
   "metadata": {},
   "outputs": [],
   "source": [
    "if clf_grid.best_score_ > clf_grid_lin.best_score_:\n",
    "    clf_grid_best = clf_grid\n",
    "else:\n",
    "    clf_grid_best = clf_grid_lin"
   ]
  },
  {
   "cell_type": "markdown",
   "metadata": {},
   "source": [
    "# Предсказания для тестовой выборки"
   ]
  },
  {
   "cell_type": "code",
   "execution_count": 76,
   "metadata": {},
   "outputs": [],
   "source": [
    "news_test = csv.reader(open('news_test.txt', 'rt', encoding=\"utf8\"), delimiter='\\t')\n",
    "df_test = pd.DataFrame(news_test, columns = ['Title', 'Publication'])"
   ]
  },
  {
   "cell_type": "code",
   "execution_count": 77,
   "metadata": {},
   "outputs": [],
   "source": [
    "df_test['text'] =  df_test['Title'] + ' ' + df_test['Publication']"
   ]
  },
  {
   "cell_type": "code",
   "execution_count": 121,
   "metadata": {},
   "outputs": [
    {
     "data": {
      "text/html": [
       "<div>\n",
       "<style scoped>\n",
       "    .dataframe tbody tr th:only-of-type {\n",
       "        vertical-align: middle;\n",
       "    }\n",
       "\n",
       "    .dataframe tbody tr th {\n",
       "        vertical-align: top;\n",
       "    }\n",
       "\n",
       "    .dataframe thead th {\n",
       "        text-align: right;\n",
       "    }\n",
       "</style>\n",
       "<table border=\"1\" class=\"dataframe\">\n",
       "  <thead>\n",
       "    <tr style=\"text-align: right;\">\n",
       "      <th></th>\n",
       "      <th>Title</th>\n",
       "      <th>Publication</th>\n",
       "      <th>text</th>\n",
       "      <th>Clear_text</th>\n",
       "    </tr>\n",
       "  </thead>\n",
       "  <tbody>\n",
       "    <tr>\n",
       "      <th>0</th>\n",
       "      <td>В МИД Белоруссии одобрили вынос российского фл...</td>\n",
       "      <td>Белорусский спортсмен, несший на открытии пара...</td>\n",
       "      <td>В МИД Белоруссии одобрили вынос российского фл...</td>\n",
       "      <td>мид белоруссия одобрить вынос российский флаг ...</td>\n",
       "    </tr>\n",
       "    <tr>\n",
       "      <th>1</th>\n",
       "      <td>Про Хана Соло и Бобу Фетта из «Звездных войн» ...</td>\n",
       "      <td>Стало известно, кто именно будет центральными ...</td>\n",
       "      <td>Про Хана Соло и Бобу Фетта из «Звездных войн» ...</td>\n",
       "      <td>хан соло боб фетта звёздный война снять отдель...</td>\n",
       "    </tr>\n",
       "    <tr>\n",
       "      <th>2</th>\n",
       "      <td>В Рунете началась вирусная ICQ-эпидемия</td>\n",
       "      <td>Тысячи пользователей стали жертвой нового ICQ-...</td>\n",
       "      <td>В Рунете началась вирусная ICQ-эпидемия Тысячи...</td>\n",
       "      <td>рунет начаться вирусный icq эпидемия тысяча по...</td>\n",
       "    </tr>\n",
       "    <tr>\n",
       "      <th>3</th>\n",
       "      <td>Шуховскую башню на Оке признали памятником фед...</td>\n",
       "      <td>Башня конструкции инженера Владимира Шухова в ...</td>\n",
       "      <td>Шуховскую башню на Оке признали памятником фед...</td>\n",
       "      <td>шуховсковать башня ока признать памятник федер...</td>\n",
       "    </tr>\n",
       "    <tr>\n",
       "      <th>4</th>\n",
       "      <td>Голодец предупредила правительство о последств...</td>\n",
       "      <td>Вице-премьер правительства России Ольга Голоде...</td>\n",
       "      <td>Голодец предупредила правительство о последств...</td>\n",
       "      <td>голодец предупредить правительство последствие...</td>\n",
       "    </tr>\n",
       "  </tbody>\n",
       "</table>\n",
       "</div>"
      ],
      "text/plain": [
       "                                               Title  \\\n",
       "0  В МИД Белоруссии одобрили вынос российского фл...   \n",
       "1  Про Хана Соло и Бобу Фетта из «Звездных войн» ...   \n",
       "2            В Рунете началась вирусная ICQ-эпидемия   \n",
       "3  Шуховскую башню на Оке признали памятником фед...   \n",
       "4  Голодец предупредила правительство о последств...   \n",
       "\n",
       "                                         Publication  \\\n",
       "0  Белорусский спортсмен, несший на открытии пара...   \n",
       "1  Стало известно, кто именно будет центральными ...   \n",
       "2  Тысячи пользователей стали жертвой нового ICQ-...   \n",
       "3  Башня конструкции инженера Владимира Шухова в ...   \n",
       "4  Вице-премьер правительства России Ольга Голоде...   \n",
       "\n",
       "                                                text  \\\n",
       "0  В МИД Белоруссии одобрили вынос российского фл...   \n",
       "1  Про Хана Соло и Бобу Фетта из «Звездных войн» ...   \n",
       "2  В Рунете началась вирусная ICQ-эпидемия Тысячи...   \n",
       "3  Шуховскую башню на Оке признали памятником фед...   \n",
       "4  Голодец предупредила правительство о последств...   \n",
       "\n",
       "                                          Clear_text  \n",
       "0  мид белоруссия одобрить вынос российский флаг ...  \n",
       "1  хан соло боб фетта звёздный война снять отдель...  \n",
       "2  рунет начаться вирусный icq эпидемия тысяча по...  \n",
       "3  шуховсковать башня ока признать памятник федер...  \n",
       "4  голодец предупредить правительство последствие...  "
      ]
     },
     "execution_count": 121,
     "metadata": {},
     "output_type": "execute_result"
    }
   ],
   "source": [
    "df_test.head()"
   ]
  },
  {
   "cell_type": "code",
   "execution_count": 83,
   "metadata": {},
   "outputs": [
    {
     "name": "stdout",
     "output_type": "stream",
     "text": [
      "Wall time: 18min 33s\n"
     ]
    }
   ],
   "source": [
    "%%time\n",
    "df_test['Clear_text'] = df_test['text'].apply(review_to_words)"
   ]
  },
  {
   "cell_type": "code",
   "execution_count": 37,
   "metadata": {},
   "outputs": [],
   "source": [
    "#df_test.to_csv('cleared_test_data.csv', index=False)\n",
    "df_test = pd.read_csv('cleared_test_data.csv')"
   ]
  },
  {
   "cell_type": "code",
   "execution_count": 40,
   "metadata": {},
   "outputs": [
    {
     "name": "stdout",
     "output_type": "stream",
     "text": [
      "Wall time: 2.34 s\n"
     ]
    }
   ],
   "source": [
    "%%time\n",
    "test_data_features = vectorizer.transform(df_test['Clear_text']) "
   ]
  },
  {
   "cell_type": "code",
   "execution_count": 41,
   "metadata": {},
   "outputs": [
    {
     "data": {
      "text/plain": [
       "array(['sport', 'culture', 'media', ..., 'economics', 'science', 'travel'],\n",
       "      dtype=object)"
      ]
     },
     "execution_count": 41,
     "metadata": {},
     "output_type": "execute_result"
    }
   ],
   "source": [
    "prediction = clf_grid_best.best_estimator_.predict(test_data_features)\n",
    "prediction"
   ]
  },
  {
   "cell_type": "code",
   "execution_count": 42,
   "metadata": {},
   "outputs": [],
   "source": [
    "with open(\"submission_new.txt\",'w') as text:\n",
    "    for word in prediction:\n",
    "        text.write(word + '\\n')"
   ]
  },
  {
   "cell_type": "code",
   "execution_count": 43,
   "metadata": {},
   "outputs": [
    {
     "data": {
      "text/plain": [
       "culture      2207\n",
       "economics    2198\n",
       "science      2130\n",
       "sport        2130\n",
       "media        2096\n",
       "life         2070\n",
       "forces       1216\n",
       "business      414\n",
       "style         271\n",
       "travel        268\n",
       "dtype: int64"
      ]
     },
     "execution_count": 43,
     "metadata": {},
     "output_type": "execute_result"
    }
   ],
   "source": [
    "pd.Series(prediction).value_counts()"
   ]
  },
  {
   "cell_type": "code",
   "execution_count": 44,
   "metadata": {},
   "outputs": [
    {
     "data": {
      "text/plain": [
       "science      8657\n",
       "media        8629\n",
       "economics    8545\n",
       "sport        8510\n",
       "culture      8405\n",
       "life         8083\n",
       "forces       4758\n",
       "business     2099\n",
       "travel       1166\n",
       "style        1148\n",
       "Name: Genres, dtype: int64"
      ]
     },
     "execution_count": 44,
     "metadata": {},
     "output_type": "execute_result"
    }
   ],
   "source": [
    "df['Genres'].value_counts()"
   ]
  }
 ],
 "metadata": {
  "kernelspec": {
   "display_name": "Python 3",
   "language": "python",
   "name": "python3"
  },
  "language_info": {
   "codemirror_mode": {
    "name": "ipython",
    "version": 3
   },
   "file_extension": ".py",
   "mimetype": "text/x-python",
   "name": "python",
   "nbconvert_exporter": "python",
   "pygments_lexer": "ipython3",
   "version": "3.7.4"
  }
 },
 "nbformat": 4,
 "nbformat_minor": 2
}
